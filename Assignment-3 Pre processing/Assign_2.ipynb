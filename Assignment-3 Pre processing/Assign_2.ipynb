{
  "nbformat": 4,
  "nbformat_minor": 0,
  "metadata": {
    "colab": {
      "provenance": []
    },
    "kernelspec": {
      "name": "python3",
      "display_name": "Python 3"
    },
    "language_info": {
      "name": "python"
    }
  },
  "cells": [
    {
      "cell_type": "code",
      "execution_count": null,
      "metadata": {
        "id": "nLZCLmKFayyW"
      },
      "outputs": [],
      "source": [
        "import pandas as pd\n",
        "import numpy as np\n",
        "from sklearn.preprocessing import MinMaxScaler, StandardScaler, KBinsDiscretizer, OneHotEncoder, Binarizer\n",
        "from sklearn.metrics.pairwise import cosine_similarity\n",
        "from scipy.spatial.distance import jaccard\n",
        "from scipy.stats import pearsonr\n",
        "\n",
        "df = pd.read_csv(\"AWCustomers.csv\")\n",
        "\n",
        "selected = df[['YearlyIncome','TotalChildren','MaritalStatus','Gender','NumberCarsOwned','AddressLine1']]\n",
        "selected = selected.dropna()\n",
        "\n",
        "scaler = MinMaxScaler()\n",
        "selected[['YearlyIncome']] = scaler.fit_transform(selected[['YearlyIncome']])\n",
        "\n",
        "\n",
        "\n",
        "ohe = OneHotEncoder(sparse=False, drop='first')\n",
        "encoded = ohe.fit_transform(selected[['MaritalStatus','Gender']])\n",
        "encoded_df = pd.DataFrame(encoded, columns=ohe.get_feature_names_out(['MaritalStatus','Gender']))\n",
        "selected = pd.concat([selected.drop(['MaritalStatus','Gender'], axis=1), encoded_df], axis=1)\n",
        "\n",
        "std_scaler = StandardScaler()\n",
        "selected[['YearlyIncome']] = std_scaler.fit_transform(selected[['YearlyIncome']])\n",
        "\n",
        "binr = Binarizer(threshold=2)\n",
        "selected['NumberCarsOwned'] = binr.fit_transform(selected[['NumberCarsOwned']])\n",
        "\n",
        "obj1 = selected.iloc[0].values\n",
        "obj2 = selected.iloc[1].values\n",
        "\n",
        "simple_matching = np.sum(obj1==obj2)/len(obj1)\n",
        "jaccard_sim = 1 - jaccard(obj1,obj2)\n",
        "cosine_sim = cosine_similarity([obj1],[obj2])[0][0]\n",
        "\n",
        "commute = df['NumberCarsOwned'].dropna().values\n",
        "income = df['YearlyIncome'].dropna().values[:len(commute)]\n",
        "corr, _ = pearsonr(commute, income)\n",
        "\n",
        "print(\"Simple Matching Similarity:\", simple_matching)\n",
        "print(\"Jaccard Similarity:\", jaccard_sim)\n",
        "print(\"Cosine Similarity:\", cosine_sim)\n",
        "print(\"Correlation (NumberCarsOwned vs YearlyIncome):\", corr)"
      ]
    }
  ]
}